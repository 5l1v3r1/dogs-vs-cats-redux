{
 "cells": [
  {
   "cell_type": "code",
   "execution_count": 1,
   "metadata": {
    "collapsed": true
   },
   "outputs": [],
   "source": [
    "from numpy import genfromtxt\n",
    "import numpy as np\n",
    "import pandas as pd"
   ]
  },
  {
   "cell_type": "markdown",
   "metadata": {},
   "source": [
    "**Load .csv file**"
   ]
  },
  {
   "cell_type": "code",
   "execution_count": 3,
   "metadata": {
    "collapsed": false
   },
   "outputs": [],
   "source": [
    "sub1 = genfromtxt('subm_res50_fconv_ver1.csv', delimiter=',')\n",
    "sub2 = genfromtxt('subm_res50_fconv_ver2.csv', delimiter=',')\n",
    "sub3 = genfromtxt('subm_res50_fconv_ver3.csv', delimiter=',')\n",
    "sub4 = genfromtxt('subm_res50_fc_bneck.csv', delimiter=',')\n",
    "sub5 = genfromtxt('subm_res50_fc_ver1.csv', delimiter=',')\n",
    "sub6 = genfromtxt('subm_res50_incep.csv', delimiter=',')"
   ]
  },
  {
   "cell_type": "markdown",
   "metadata": {},
   "source": [
    "[id, isDog]"
   ]
  },
  {
   "cell_type": "code",
   "execution_count": 4,
   "metadata": {
    "collapsed": false
   },
   "outputs": [
    {
     "data": {
      "text/plain": [
       "array([[             nan,              nan],\n",
       "       [  1.05920000e+04,   0.00000000e+00],\n",
       "       [  7.21700000e+03,   3.00000000e-05],\n",
       "       [  3.65300000e+03,   1.00000000e+00],\n",
       "       [  4.38200000e+03,   1.48100000e-02]])"
      ]
     },
     "execution_count": 4,
     "metadata": {},
     "output_type": "execute_result"
    }
   ],
   "source": [
    "sub1[:5]"
   ]
  },
  {
   "cell_type": "code",
   "execution_count": 5,
   "metadata": {
    "collapsed": true
   },
   "outputs": [],
   "source": [
    "sub1 = sub1[1:]\n",
    "sub2 = sub2[1:]\n",
    "sub3 = sub3[1:]\n",
    "sub4 = sub4[1:]\n",
    "sub5 = sub5[1:]\n",
    "sub6 = sub6[1:]"
   ]
  },
  {
   "cell_type": "code",
   "execution_count": 6,
   "metadata": {
    "collapsed": false
   },
   "outputs": [
    {
     "data": {
      "text/plain": [
       "array([[  1.05920000e+04,   0.00000000e+00],\n",
       "       [  7.21700000e+03,   3.00000000e-05],\n",
       "       [  3.65300000e+03,   1.00000000e+00],\n",
       "       [  4.38200000e+03,   1.48100000e-02],\n",
       "       [  2.92400000e+03,   4.00570000e-01]])"
      ]
     },
     "execution_count": 6,
     "metadata": {},
     "output_type": "execute_result"
    }
   ],
   "source": [
    "sub1[:5]"
   ]
  },
  {
   "cell_type": "markdown",
   "metadata": {},
   "source": [
    "**Average submissions**"
   ]
  },
  {
   "cell_type": "code",
   "execution_count": 16,
   "metadata": {
    "collapsed": false
   },
   "outputs": [],
   "source": [
    "arith_mean_subm = (sub1 + sub2 + sub3 + sub4 + sub5 + sub6)/6.\n",
    "geo_mean_subm = np.power(sub1*sub2*sub3*sub4*sub5*sub6, 1/6.)"
   ]
  },
  {
   "cell_type": "code",
   "execution_count": 17,
   "metadata": {
    "collapsed": false
   },
   "outputs": [
    {
     "data": {
      "text/plain": [
       "array([[  1.05920000e+04,   1.60000000e-04],\n",
       "       [  7.21700000e+03,   5.16666667e-05],\n",
       "       [  3.65300000e+03,   1.00000000e+00],\n",
       "       [  4.38200000e+03,   4.92000000e-03],\n",
       "       [  2.92400000e+03,   6.66530000e-01]])"
      ]
     },
     "execution_count": 17,
     "metadata": {},
     "output_type": "execute_result"
    }
   ],
   "source": [
    "arith_mean_subm[:5]"
   ]
  },
  {
   "cell_type": "code",
   "execution_count": 30,
   "metadata": {
    "collapsed": false
   },
   "outputs": [
    {
     "data": {
      "text/plain": [
       "array([ 10592.,      0.])"
      ]
     },
     "execution_count": 30,
     "metadata": {},
     "output_type": "execute_result"
    }
   ],
   "source": [
    "geo_mean_subm[0]"
   ]
  },
  {
   "cell_type": "markdown",
   "metadata": {},
   "source": [
    "**Do clipping to get lower log-loss on kaggle**"
   ]
  },
  {
   "cell_type": "code",
   "execution_count": 34,
   "metadata": {
    "collapsed": false
   },
   "outputs": [],
   "source": [
    "arith_mean_subm_isdog = arith_mean_subm[:,1]\n",
    "arith_mean_subm_isdog = arith_mean_subm_isdog.clip(min=0.02/7, max=0.98)\n",
    "arith_mean_subm_clip = np.stack([arith_mean_subm[:,0],arith_mean_subm_isdog], axis=1)\n",
    "\n",
    "geo_mean_subm_isdog = geo_mean_subm[:,1]\n",
    "geo_mean_subm_isdog = geo_mean_subm_isdog.clip(min=0.02/7, max=0.98)\n",
    "geo_mean_subm_clip = np.stack([geo_mean_subm[:,0],geo_mean_subm_isdog], axis=1)"
   ]
  },
  {
   "cell_type": "code",
   "execution_count": 35,
   "metadata": {
    "collapsed": false
   },
   "outputs": [
    {
     "data": {
      "text/plain": [
       "array([[  1.05920000e+04,   2.85714286e-03],\n",
       "       [  7.21700000e+03,   2.85714286e-03],\n",
       "       [  3.65300000e+03,   9.80000000e-01],\n",
       "       [  4.38200000e+03,   4.92000000e-03],\n",
       "       [  2.92400000e+03,   6.66530000e-01]])"
      ]
     },
     "execution_count": 35,
     "metadata": {},
     "output_type": "execute_result"
    }
   ],
   "source": [
    "arith_mean_subm_clip[:5]"
   ]
  },
  {
   "cell_type": "code",
   "execution_count": 36,
   "metadata": {
    "collapsed": false
   },
   "outputs": [
    {
     "data": {
      "text/plain": [
       "array([[  1.05920000e+04,   2.85714286e-03],\n",
       "       [  7.21700000e+03,   2.85714286e-03],\n",
       "       [  3.65300000e+03,   9.80000000e-01],\n",
       "       [  4.38200000e+03,   3.21343418e-03],\n",
       "       [  2.92400000e+03,   5.96950014e-01]])"
      ]
     },
     "execution_count": 36,
     "metadata": {},
     "output_type": "execute_result"
    }
   ],
   "source": [
    "geo_mean_subm_clip[:5]"
   ]
  },
  {
   "cell_type": "code",
   "execution_count": 37,
   "metadata": {
    "collapsed": false
   },
   "outputs": [],
   "source": [
    "submission_file_name = 'arith_mean_subm_clip.csv'\n",
    "np.savetxt(submission_file_name, arith_mean_subm_clip, fmt='%d,%.5f', header='id,label', comments='')\n",
    "submission_file_name = 'geo_mean_subm_clip.csv'\n",
    "np.savetxt(submission_file_name, geo_mean_subm_clip, fmt='%d,%.5f', header='id,label', comments='')"
   ]
  },
  {
   "cell_type": "code",
   "execution_count": null,
   "metadata": {
    "collapsed": true
   },
   "outputs": [],
   "source": []
  }
 ],
 "metadata": {
  "kernelspec": {
   "display_name": "Python 2",
   "language": "python",
   "name": "python2"
  },
  "language_info": {
   "codemirror_mode": {
    "name": "ipython",
    "version": 2
   },
   "file_extension": ".py",
   "mimetype": "text/x-python",
   "name": "python",
   "nbconvert_exporter": "python",
   "pygments_lexer": "ipython2",
   "version": "2.7.9"
  }
 },
 "nbformat": 4,
 "nbformat_minor": 2
}
